{
 "cells": [
  {
   "cell_type": "code",
   "execution_count": 2,
   "metadata": {},
   "outputs": [],
   "source": [
    "import pandas as pd\n",
    "\n",
    "# Création des données\n",
    "données = {\n",
    "    'Name': ['Guillaume', 'Pablo', 'Marwan', 'Julien'],\n",
    "    'Mail': ['chat.GMD@hotmail.com', 'pableau.tablo@gmail.com', 'marwan.gangsta@aol.com', 'feralisser@gmail.com']\n",
    "}\n",
    "\n",
    "# Création du DataFrame\n",
    "listletter = pd.DataFrame(données)\n",
    "\n",
    "# Sauvegarde en tant que fichier CSV\n",
    "listletter.to_csv('listletter.csv', index=False)"
   ]
  },
  {
   "cell_type": "code",
   "execution_count": 3,
   "metadata": {},
   "outputs": [
    {
     "ename": "SyntaxError",
     "evalue": "invalid syntax (245558611.py, line 1)",
     "output_type": "error",
     "traceback": [
      "\u001b[1;36m  Cell \u001b[1;32mIn[3], line 1\u001b[1;36m\u001b[0m\n\u001b[1;33m    pipreqs .\u001b[0m\n\u001b[1;37m             ^\u001b[0m\n\u001b[1;31mSyntaxError\u001b[0m\u001b[1;31m:\u001b[0m invalid syntax\n"
     ]
    }
   ],
   "source": [
    "pipreqs ."
   ]
  }
 ],
 "metadata": {
  "kernelspec": {
   "display_name": "DataFev23",
   "language": "python",
   "name": "python3"
  },
  "language_info": {
   "codemirror_mode": {
    "name": "ipython",
    "version": 3
   },
   "file_extension": ".py",
   "mimetype": "text/x-python",
   "name": "python",
   "nbconvert_exporter": "python",
   "pygments_lexer": "ipython3",
   "version": "3.9.16"
  },
  "orig_nbformat": 4
 },
 "nbformat": 4,
 "nbformat_minor": 2
}
